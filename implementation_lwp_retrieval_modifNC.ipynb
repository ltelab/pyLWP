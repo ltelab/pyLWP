{
 "cells": [
  {
   "cell_type": "code",
   "execution_count": 1,
   "metadata": {},
   "outputs": [
    {
     "name": "stderr",
     "output_type": "stream",
     "text": [
      "2023-03-20 12:10:57.311765: W tensorflow/stream_executor/platform/default/dso_loader.cc:64] Could not load dynamic library 'libcudart.so.11.0'; dlerror: libcudart.so.11.0: cannot open shared object file: No such file or directory\n",
      "2023-03-20 12:10:57.311790: I tensorflow/stream_executor/cuda/cudart_stub.cc:29] Ignore above cudart dlerror if you do not have a GPU set up on your machine.\n"
     ]
    }
   ],
   "source": [
    "import warnings\n",
    "warnings.filterwarnings('ignore')\n",
    "import glob\n",
    "import numpy as np\n",
    "import matplotlib.pyplot as plt\n",
    "import datetime\n",
    "import pandas as pd\n",
    "import sys\n",
    "from keras.models import load_model\n",
    "from netCDF4 import Dataset\n",
    "import os\n",
    "from tools import Ps_to_sea_level, Ps_to_sea_level_old, load_ERA_variables, load_WProf_variables\n",
    "from scipy import interpolate"
   ]
  },
  {
   "cell_type": "code",
   "execution_count": null,
   "metadata": {},
   "outputs": [],
   "source": [
    "GEO = True\n",
    "ERA = True\n",
    "SURF = True\n",
    "\n",
    "ALTITUDE = 1340\n",
    "LATITUDE = -71.9\n",
    "LONGITUDE = 23.3\n",
    "\n",
    "PLOT = True\n",
    "MODIFY_NC = True\n"
   ]
  },
  {
   "cell_type": "code",
   "execution_count": null,
   "metadata": {},
   "outputs": [],
   "source": [
    "## Function which defines the corresponding dataframe and runs the retrieval model\n",
    "## Note: this uses some of the pre-defined fields!!\n",
    "def predict(lwp_or_pwv):\n",
    "    if (not GEO) and ERA and SURF:\n",
    "        df = pd.DataFrame({'Ts':Ts,'Ps':Ps,'RHs':RHs, 'LWPera':LWPera, 'PWVera':PWVera, 'TB':TB, 'TB2': TB**2})\n",
    "        df = df.reindex(columns=['LWPera','PWVera','Ps','RHs','TB','Ts','TB2'])\n",
    "        mean = np.load('parameters/ERA_noGeo_Surf/mean_for_%s.npy'%lwp_or_pwv)\n",
    "        std = np.load('parameters/ERA_noGeo_Surf/std_for_%s.npy'%lwp_or_pwv)\n",
    "        model = load_model('parameters/ERA_noGeo_Surf/%smodel_ERA_noGeo_Surf_TB12'%lwp_or_pwv)\n",
    "    if GEO and ERA and SURF:\n",
    "        df = pd.DataFrame({'altitude':alt, 'latitude':lat, 'longitude':lon, 'date': date, 'Ts':Ts,'Ps':Ps,'RHs':RHs, 'LWPera':LWPera, 'PWVera':PWVera, 'TB':TB, 'TB2': TB**2})\n",
    "        df = df.reindex(columns=['LWPera','PWVera', 'Ps', 'RHs', 'TB', 'Ts', 'altitude', 'date', 'latitude', 'longitude', 'TB2'])\n",
    "        mean = np.load('parameters/ERA_Geo_Surf/mean_for_%s.npy'%lwp_or_pwv)\n",
    "        std = np.load('parameters/ERA_Geo_Surf/std_for_%s.npy'%lwp_or_pwv)\n",
    "        model = load_model('parameters/ERA_Geo_Surf/%smodel_ERA_Geo_Surf_TB12'%lwp_or_pwv)\n",
    "    if GEO and ERA and (not SURF):\n",
    "        df = pd.DataFrame({'altitude':alt, 'latitude':lat, 'longitude':lon, 'date': date,  'LWPera':LWPera, 'PWVera':PWVera, 'TB':TB, 'TB2': TB**2})\n",
    "        df = df.reindex(columns=['LWPera', 'PWVera', 'TB', 'altitude', 'date', 'latitude', 'longitude', 'TB2'])\n",
    "        mean = np.load('parameters/ERA_Geo_noSurf/mean_for_%s.npy'%lwp_or_pwv)\n",
    "        std = np.load('parameters/ERA_Geo_noSurf/std_for_%s.npy'%lwp_or_pwv)\n",
    "        model = load_model('parameters/ERA_Geo_noSurf/%smodel_ERA_Geo_noSurf_TB12'%lwp_or_pwv)\n",
    "\n",
    "    if (not GEO) and (not ERA) and SURF:\n",
    "        df = pd.DataFrame({'Ts':Ts,'Ps':Ps,'RHs':RHs, 'TB':TB, 'TB2': TB**2})\n",
    "        df = df.reindex(columns=['Ps','RHs','TB','Ts','TB2'])\n",
    "        mean = np.load('parameters/noERA_noGeo_Surf/mean_for_%s.npy'%lwp_or_pwv)\n",
    "        std = np.load('parameters/noERA_noGeo_Surf/std_for_%s.npy'%lwp_or_pwv)\n",
    "        model = load_model('parameters/noERA_noGeo_Surf/%smodel_noERA_noGeo_Surf_TB12'%lwp_or_pwv)\n",
    "    if GEO and (not ERA) and SURF:\n",
    "        df = pd.DataFrame({'altitude':alt, 'latitude':lat, 'longitude':lon, 'date': date, 'Ts':Ts,'Ps':Ps,'RHs':RHs, 'TB':TB, 'TB2': TB**2})\n",
    "        df = df.reindex(columns=['Ps', 'RHs', 'TB', 'Ts', 'altitude', 'date', 'latitude', 'longitude', 'TB2'])\n",
    "        mean = np.load('parameters/noERA_Geo_Surf/mean_for_%s.npy'%lwp_or_pwv)\n",
    "        std = np.load('parameters/noERA_Geo_Surf/std_for_%s.npy'%lwp_or_pwv)\n",
    "        model = load_model('parameters/noERA_Geo_Surf/%smodel_noERA_Geo_Surf_TB12'%lwp_or_pwv)\n",
    "    if GEO and (not ERA) and (not SURF):\n",
    "        df = pd.DataFrame({'altitude':alt, 'latitude':lat, 'longitude':lon, 'date': date,'TB':TB, 'TB2': TB**2})\n",
    "        df = df.reindex(columns=['TB', 'altitude', 'date', 'latitude', 'longitude', 'TB2'])\n",
    "        mean = np.load('parameters/noERA_Geo_noSurf/mean_for_%s.npy'%lwp_or_pwv)\n",
    "        std = np.load('parameters/noERA_Geo_noSurf/std_for_%s.npy'%lwp_or_pwv)\n",
    "        model = load_model('parameters/noERA_Geo_noSurf/%smodel_noERA_Geo_noSurf_TB12'%lwp_or_pwv)\n",
    "\n",
    "\n",
    "    # Normalize the input features\n",
    "    npdf = (df.to_numpy()-mean)/std\n",
    "    # Run the prediction\n",
    "    pred = model.predict(npdf)\n",
    "    # This ensures that there are no doubles (safety)\n",
    "    tpred,inds = np.unique(t,return_index=True)\n",
    "    pred = pred[inds]\n",
    "    \n",
    "    return (tpred,pred)"
   ]
  },
  {
   "cell_type": "code",
   "execution_count": 3,
   "metadata": {},
   "outputs": [
    {
     "ename": "NameError",
     "evalue": "name 'glob' is not defined",
     "output_type": "error",
     "traceback": [
      "\u001b[0;31m---------------------------------------------------------------------------\u001b[0m",
      "\u001b[0;31mNameError\u001b[0m                                 Traceback (most recent call last)",
      "\u001b[0;32m<ipython-input-3-ca15a19f0cbc>\u001b[0m in \u001b[0;36m<module>\u001b[0;34m\u001b[0m\n\u001b[0;32m----> 1\u001b[0;31m \u001b[0mfwps\u001b[0m \u001b[0;34m=\u001b[0m \u001b[0msorted\u001b[0m\u001b[0;34m(\u001b[0m\u001b[0mglob\u001b[0m\u001b[0;34m.\u001b[0m\u001b[0mglob\u001b[0m\u001b[0;34m(\u001b[0m\u001b[0;34m'/ltenas3/POPE_2020/WProf_w_LWP_IWV/2002*.nc'\u001b[0m\u001b[0;34m)\u001b[0m\u001b[0;34m)\u001b[0m\u001b[0;34m[\u001b[0m\u001b[0;34m:\u001b[0m\u001b[0;34m]\u001b[0m\u001b[0;31m#[20] #nas3/anneclaire/ICEGENESIS_2021/WProf/LV1_20210507/2101*.nc'))[:-2]\u001b[0m\u001b[0;34m\u001b[0m\u001b[0;34m\u001b[0m\u001b[0m\n\u001b[0m\u001b[1;32m      2\u001b[0m \u001b[0;34m\u001b[0m\u001b[0m\n\u001b[1;32m      3\u001b[0m \u001b[0;32mif\u001b[0m \u001b[0mPLOT\u001b[0m\u001b[0;34m:\u001b[0m\u001b[0;34m\u001b[0m\u001b[0;34m\u001b[0m\u001b[0m\n\u001b[1;32m      4\u001b[0m     \u001b[0mfig\u001b[0m\u001b[0;34m,\u001b[0m\u001b[0maxs\u001b[0m \u001b[0;34m=\u001b[0m \u001b[0mplt\u001b[0m\u001b[0;34m.\u001b[0m\u001b[0msubplots\u001b[0m\u001b[0;34m(\u001b[0m\u001b[0;36m2\u001b[0m\u001b[0;34m)\u001b[0m\u001b[0;34m\u001b[0m\u001b[0;34m\u001b[0m\u001b[0m\n\u001b[1;32m      5\u001b[0m \u001b[0;34m\u001b[0m\u001b[0m\n",
      "\u001b[0;31mNameError\u001b[0m: name 'glob' is not defined"
     ]
    }
   ],
   "source": [
    "\n",
    "\n",
    "fwps = sorted(glob.glob('/ltenas3/POPE_2020/WProf_w_LWP_IWV/2002*.nc'))[:]#[20] #nas3/anneclaire/ICEGENESIS_2021/WProf/LV1_20210507/2101*.nc'))[:-2]\n",
    "\n",
    "if PLOT:\n",
    "    fig,axs = plt.subplots(2)\n",
    "\n",
    "for fwp in fwps[:]:\n",
    "    try:\n",
    "        print(fwp)\n",
    "        erapath = '/home/billault/Documents/In_progress/POPE_2020/ERA5_LWP_2020_02.nc'\n",
    "\n",
    "        (t, Ts, Ps, RHs, TB, LWPrpg) = load_WProf_variables(fwp)\n",
    "        (LWPera, PWVera) = load_ERA_variables(erapath, t)\n",
    "\n",
    "        Ps = Ps_to_sea_level(np.array(Ps), np.array(Ts), ALTITUDE)\n",
    "\n",
    "        Ts = Ts-273.15\n",
    "        Ps = Ps*1e2\n",
    "\n",
    "        daynum = []\n",
    "        for tt in t:\n",
    "            dt = datetime.datetime.utcfromtimestamp(tt)\n",
    "            yr = dt.year\n",
    "            daynum.append((dt-datetime.datetime(yr,1,1,0)).days+1+(dt-datetime.datetime(yr,1,1,0)).seconds/(24*3600))\n",
    "        date = np.array(daynum)\n",
    "\n",
    "        alt = np.zeros(len(TB))+ALTITUDE\n",
    "        lat = np.zeros(len(TB))+LATITUDE\n",
    "        lon = np.zeros(len(TB))+LONGITUDE\n",
    "\n",
    "        tpwv,PWVpred = predict('PWV')\n",
    "        tlwp,LWPpred = predict('LWP')\n",
    "\n",
    "        if PLOT:\n",
    "            axs[0].plot(tpwv,PWVpred)\n",
    "            axs[1].plot(tpwv,LWPpred)\n",
    "\n",
    "        if MODIFY_NC:\n",
    "            with Dataset(fwp,'r+') as nc:\n",
    "                if 'Liquid-water-path-RPG' in nc.variables.keys():\n",
    "                    print('already done')\n",
    "                    continue\n",
    "                    \n",
    "                nc.radar_name= 'WProf - RPG Demonstrator'\n",
    "                nc.radar_manufacturer= 'RPG-Radiometer Physics GmbH'\n",
    "                nc.radar_frequency= 94\n",
    "                nc.radar_frequency_unit= 'GHz'\n",
    "                nc.radar_type= 'Vertically pointing FMCW Doppler spectral'\n",
    "                nc.radar_latitude= LATITUDE\n",
    "                nc.radar_latitude_unit= 'degN'\n",
    "                nc.radar_longitude= LONGITUDE\n",
    "                nc.radar_longitude_unit= 'degE'\n",
    "                nc.radar_altitude= ALTITUDE\n",
    "                nc.radar_altitude_unit= 'm a.s.l.'\n",
    "                nc.liquid_water_path_and_integrated_water_vapor_computation = 'Billault-Roux, A.-C. and Berne, A.: https://doi.org/10.5194/amt-2020-311'\n",
    "\n",
    "\n",
    "                pwv = nc.createVariable('Integrated-water-vapor', 'f4',('Time',))\n",
    "                pwv[:] = PWVpred[:]\n",
    "                pwv.unit = 'kg.m^-2'\n",
    "                pwv.description = 'integrated water vapor - Billault-Roux and Berne 2021 (https://doi.org/10.5194/amt-2020-311)'\n",
    "\n",
    "                nc.renameVariable('Liquid-water-path', 'Liquid-water-path-RPG')\n",
    "                nc.variables['Liquid-water-path-RPG'].description= 'liquid water path - computed through radar built-in software'\n",
    "                nc.variables['Liquid-water-path-RPG'].unit= 'g.m^-2'\n",
    "\n",
    "                lwp = nc.createVariable('Liquid-water-path', 'f4',('Time',))\n",
    "                lwp[:] = LWPpred[:]\n",
    "                lwp.unit = 'g.m^-2'\n",
    "                lwp.description = 'liquid water path - Billault-Roux and Berne 2021 (https://doi.org/10.5194/amt-2020-311)'\n",
    "\n",
    "    except Exception as e:\n",
    "        print(fwp, e)"
   ]
  },
  {
   "cell_type": "code",
   "execution_count": 10,
   "metadata": {},
   "outputs": [
    {
     "name": "stdout",
     "output_type": "stream",
     "text": [
      "/ltenas3/POPE_2020/WProf_w_LWP_IWV/191224_000004_P01_ZEN_LV2.nc 11.451564\n",
      "/ltenas3/POPE_2020/WProf_w_LWP_IWV/191224_010004_P01_ZEN_LV2.nc 11.651341\n",
      "/ltenas3/POPE_2020/WProf_w_LWP_IWV/191224_020004_P01_ZEN_LV2.nc 11.837756\n",
      "/ltenas3/POPE_2020/WProf_w_LWP_IWV/191224_030002_P01_ZEN_LV2.nc 13.982589\n",
      "/ltenas3/POPE_2020/WProf_w_LWP_IWV/191224_040005_P01_ZEN_LV2.nc 17.236702\n",
      "/ltenas3/POPE_2020/WProf_w_LWP_IWV/191224_050004_P01_ZEN_LV2.nc 29.917408\n",
      "/ltenas3/POPE_2020/WProf_w_LWP_IWV/191224_060003_P01_ZEN_LV2.nc 25.087465\n",
      "/ltenas3/POPE_2020/WProf_w_LWP_IWV/191224_070003_P01_ZEN_LV2.nc 18.765194\n",
      "/ltenas3/POPE_2020/WProf_w_LWP_IWV/191224_080004_P01_ZEN_LV2.nc 15.066031\n",
      "/ltenas3/POPE_2020/WProf_w_LWP_IWV/191224_090005_P01_ZEN_LV2.nc 14.443489\n",
      "/ltenas3/POPE_2020/WProf_w_LWP_IWV/191224_100003_P01_ZEN_LV2.nc 15.476044\n",
      "/ltenas3/POPE_2020/WProf_w_LWP_IWV/191224_110004_P01_ZEN_LV2.nc 14.928123\n",
      "/ltenas3/POPE_2020/WProf_w_LWP_IWV/191224_120004_P01_ZEN_LV2.nc 15.530921\n",
      "/ltenas3/POPE_2020/WProf_w_LWP_IWV/191224_130002_P01_ZEN_LV2.nc 15.974454\n",
      "/ltenas3/POPE_2020/WProf_w_LWP_IWV/191224_140002_P01_ZEN_LV2.nc 15.860879\n",
      "/ltenas3/POPE_2020/WProf_w_LWP_IWV/191224_150003_P01_ZEN_LV2.nc 15.89735\n",
      "/ltenas3/POPE_2020/WProf_w_LWP_IWV/191224_160003_P01_ZEN_LV2.nc 15.320345\n",
      "/ltenas3/POPE_2020/WProf_w_LWP_IWV/191224_170000_P01_ZEN_LV2.nc 14.616974\n",
      "/ltenas3/POPE_2020/WProf_w_LWP_IWV/191224_180004_P01_ZEN_LV2.nc 14.410411\n",
      "/ltenas3/POPE_2020/WProf_w_LWP_IWV/191224_190000_P01_ZEN_LV2.nc 12.947837\n",
      "/ltenas3/POPE_2020/WProf_w_LWP_IWV/191224_200001_P01_ZEN_LV2.nc 13.28483\n",
      "/ltenas3/POPE_2020/WProf_w_LWP_IWV/191224_210002_P01_ZEN_LV2.nc 12.137188\n",
      "/ltenas3/POPE_2020/WProf_w_LWP_IWV/191224_220001_P01_ZEN_LV2.nc 12.206642\n",
      "/ltenas3/POPE_2020/WProf_w_LWP_IWV/191224_230001_P01_ZEN_LV2.nc 12.030571\n"
     ]
    },
    {
     "data": {
      "image/png": "[encoded data removed]",
      "text/plain": [
       "<Figure size 1080x288 with 1 Axes>"
      ]
     },
     "metadata": {
      "needs_background": "light"
     },
     "output_type": "display_data"
    }
   ],
   "source": [
    "plt.figure(figsize=(15,4))\n",
    "for f in fwps[:]:\n",
    "    nc = Dataset(f)\n",
    "    plt.plot(nc.variables['Time'][:],nc.variables['Liquid-water-path'][:],'blue')\n",
    "    plt.plot(nc.variables['Time'][:],nc.variables['Liquid-water-path-RPG'][:],'red')\n",
    "    print(f, np.min(nc.variables['Direct-detection-brightness-temp'][:]))"
   ]
  }
 ],
 "metadata": {
  "kernelspec": {
   "display_name": "Python 3",
   "language": "python",
   "name": "python3"
  },
  "language_info": {
   "codemirror_mode": {
    "name": "ipython",
    "version": 3
   },
   "file_extension": ".py",
   "mimetype": "text/x-python",
   "name": "python",
   "nbconvert_exporter": "python",
   "pygments_lexer": "ipython3",
   "version": "3.6.9"
  }
 },
 "nbformat": 4,
 "nbformat_minor": 4
}
